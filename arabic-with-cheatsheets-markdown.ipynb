{
 "cells": [
  {
   "cell_type": "markdown",
   "metadata": {},
   "source": [
    "## For educational or discussion purposes لغرض تعليمي او تناقش"
   ]
  },
  {
   "cell_type": "markdown",
   "metadata": {
    "execution": {
     "iopub.execute_input": "2023-01-16T20:47:44.497848Z",
     "iopub.status.busy": "2023-01-16T20:47:44.497454Z",
     "iopub.status.idle": "2023-01-16T20:47:44.505170Z",
     "shell.execute_reply": "2023-01-16T20:47:44.503824Z",
     "shell.execute_reply.started": "2023-01-16T20:47:44.497805Z"
    }
   },
   "source": [
    "I got from it  **the ultimate markdown cheatsheet**\n",
    "**If you need Arabic reference please click ** <br>\n",
    " [المرجع العربيl](https://guide.dawin.io/basic-syntax)"
   ]
  },
  {
   "cell_type": "markdown",
   "metadata": {},
   "source": [
    "# 1. Headings\n",
    "Use the number sign (#) followed by a blank space for titles and section headings:<br>\n",
    "`# Heading 1`<br>\n",
    "`## Heading 2`<br>\n",
    "`### Heading 3`\n",
    "## Heading 2\n",
    "### Heading 3"
   ]
  },
  {
   "cell_type": "markdown",
   "metadata": {},
   "source": [
    "# 2. Bold & Italic Text\n",
    "For bold text: `**this will be bold**`<br>\n",
    "**this will be bold**<br><br>\n",
    "For italic text: `*this will be italic*`<br>\n",
    "*this will be italic*<br><br>\n",
    "For both bold and italic text: `***this will be both bold and italic***`<br>\n",
    "***this will be both bold and italic***"
   ]
  },
  {
   "cell_type": "markdown",
   "metadata": {},
   "source": [
    "# 3. Line Breaks\n",
    "Sometimes markdown doesn’t make line breaks when you want them.<br>\n",
    "To force a linebreak, use the following code: `<br>`<br>\n",
    "``` Sometimes markdown doesn’t make line breaks when you want them.<br>\n",
    "To force a linebreak, use the following code: `<br>` ```"
   ]
  },
  {
   "cell_type": "markdown",
   "metadata": {},
   "source": [
    "# 4. Monospace Font\n",
    "Surround text with a back single quotation mark ( \\` ): ``` `**this will be bold**` ```<br><br>\n",
    "For multiple lines, surround text with 3 back single quotation mark ( \\`\\`\\` )."
   ]
  },
  {
   "cell_type": "markdown",
   "metadata": {},
   "source": [
    "# 5. Inserting Links\n",
    "Standard links: ```https://www.linkedin.com/in/esraecevar/```<br>\n",
    "https://www.linkedin.com/in/esraecevar/<br><br>\n",
    "Inline links: ```[My Youtube Channel](https://www.youtube.com/user/VivoVinco)```<br>\n",
    "[My Youtube Channel](https://www.youtube.com/user/VivoVinco)<br>"
   ]
  },
  {
   "cell_type": "markdown",
   "metadata": {},
   "source": [
    "# 6. Adding Images\n",
    "From PC: Just drag and drop the image.<br><br>\n",
    "From link: ```![](https://media-exp1.licdn.com/dms/image/C5616AQHV7oUcdDwqbA/profile-displaybackgroundimage-shrink_350_1400/0/1615480017378?e=1646265600&v=beta&t=RFpJYhsFDCbuCjjQh0_Hc6kZSnEh0PEJb3kZdW_LTiU)```<br>\n",
    "![](https://media-exp1.licdn.com/dms/image/C5616AQHV7oUcdDwqbA/profile-displaybackgroundimage-shrink_350_1400/0/1615480017378?e=1646265600&v=beta&t=RFpJYhsFDCbuCjjQh0_Hc6kZSnEh0PEJb3kZdW_LTiU)"
   ]
  },
  {
   "cell_type": "markdown",
   "metadata": {},
   "source": [
    "# 7. Horizontal Line\n",
    "On a new line, enter three asterisks: ```***```\n",
    "***"
   ]
  },
  {
   "cell_type": "markdown",
   "metadata": {
    "execution": {
     "iopub.execute_input": "2021-12-30T09:09:43.95988Z",
     "iopub.status.busy": "2021-12-30T09:09:43.959039Z",
     "iopub.status.idle": "2021-12-30T09:09:43.967514Z",
     "shell.execute_reply": "2021-12-30T09:09:43.966261Z",
     "shell.execute_reply.started": "2021-12-30T09:09:43.959828Z"
    },
    "jupyter": {
     "outputs_hidden": true
    }
   },
   "source": [
    "# 8. Bullets & Numbered Lists\n",
    "To create a circular bullet point:<br>\n",
    "```- bulleted item```<br>\n",
    "``` - bulleted item```\n",
    "- bulleted item\n",
    "- bulleted item\n",
    "\n",
    "To create a numbered list:<br>\n",
    "```1. numbered item```<br>```2. numbered item```\n",
    "1. numbered item\n",
    "2. numbered item\n",
    "\n",
    "To create a substep, press Tab before entering the numbered item:<br>\n",
    "```1. numbered item```<br>```2. numbered item```\n",
    "1. numbered item\n",
    "    2. numbered item"
   ]
  },
  {
   "cell_type": "markdown",
   "metadata": {},
   "source": [
    "# 9. Task Lists\n",
    "To create a task list:<br>\n",
    "```- [x] Task 1```<br>```- [ ] Task 2```\n",
    "- [x] Task 1\n",
    "- [ ] Task 2"
   ]
  },
  {
   "cell_type": "markdown",
   "metadata": {},
   "source": [
    "# 10. Emojis\n",
    "For Windows: Press ```Win + period (.)```. Pop-up window will show up."
   ]
  },
  {
   "cell_type": "markdown",
   "metadata": {},
   "source": [
    "# 11. Blockquotes & Paragraphs\n",
    "For blockquotes: ```> I’m trying to do better than good enough.```<br>\n",
    "> I’m trying to do better than good enough.<br>\n",
    "\n",
    "For paragraphs: ```<p> I’m trying to do better than good enough. </p>```<br>\n",
    "<p> I’m trying to do better than good enough.</p>"
   ]
  },
  {
   "cell_type": "markdown",
   "metadata": {},
   "source": [
    "# 12. Backslash Escape\n",
    "To prevent interpreting a character: ``` \\*\\*Not Bold**```<br>\n",
    "\\*\\*Not Bold**"
   ]
  },
  {
   "cell_type": "markdown",
   "metadata": {},
   "source": [
    "# 13. Tables\n",
    "To create a table:<br>\n",
    "```\n",
    "|Header|Header|Header|\n",
    "|------|------|------|\n",
    "|A     |B     |C     |\n",
    "|X     |Y     |Z     |\n",
    "```\n",
    "|Header|Header|Header|\n",
    "|------|------|------|\n",
    "|A     |B     |C     |\n",
    "|X     |Y     |Z     |"
   ]
  },
  {
   "cell_type": "markdown",
   "metadata": {},
   "source": [
    "# 14. Changing Text Size & Color\n",
    "To change text size: ```<span style=\"font-size:18px;\"> October's Very Own </span>```<br>\n",
    "<span style=\"font-size:16px;\"> October's Very Own </span><br><br>\n",
    "To change text color: ```<span style=\"color:green;\"> October's Very Own </span>```<br>\n",
    "<span style=\"color:green;\"> October's Very Own </span><br><br>\n",
    "To change text size and color: ```<span style=\"font-size:14px; color:crimson\"> October's Very Own </span>```<br>\n",
    "<span style=\"font-size:18px; color:crimson\"> October's Very Own </span>"
   ]
  },
  {
   "cell_type": "markdown",
   "metadata": {},
   "source": [
    "# 15. Changing Cell Background Color\n",
    "To change cell background and text color:<br>\n",
    "```<code style=\"background:yellow;color:red\">Useful for highlighting to grab the attention of the reader towards certain points.</code>```<br>\n",
    "<code style=\"background:yellow;color:red\">Useful for highlighting to grab the attention of the reader towards certain points.</code>"
   ]
  },
  {
   "cell_type": "markdown",
   "metadata": {},
   "source": [
    "# 16. Colored Note Boxes\n",
    "Blue boxes (info):<br>\n",
    "```\n",
    "<div class=\"alert alert-block alert-info\">\n",
    "<b>Tip:</b> Use blue boxes (alert-info) for tips and notes. \n",
    "If it’s a note, you don’t have to include the word “Note”.\n",
    "</div>\n",
    "```\n",
    "\n",
    "<div class=\"alert alert-block alert-info\">\n",
    "<b>Tip:</b> Use blue boxes (alert-info) for tips and notes. \n",
    "If it’s a note, you don’t have to include the word “Note”.\n",
    "</div>\n",
    "\n",
    "Yellow boxes (warning):<br>\n",
    "```\n",
    "<div class=\"alert alert-block alert-warning\">\n",
    "<b>Example:</b> Use yellow boxes for examples that are not \n",
    "inside code cells, or use for mathematical formulas if needed.\n",
    "</div>\n",
    "```\n",
    "\n",
    "<div class=\"alert alert-block alert-warning\">\n",
    "<b>Example:</b> Use yellow boxes for examples that are not \n",
    "inside code cells, or use for mathematical formulas if needed.\n",
    "</div>\n",
    "\n",
    "Green boxes (success):<br>\n",
    "```\n",
    "<div class=\"alert alert-block alert-success\">\n",
    "<b>Up to you:</b> Use green boxes sparingly, and only for some specific \n",
    "purpose that the other boxes can't cover. For example, if you have a lot \n",
    "of related content to link to, maybe you decide to use green boxes for \n",
    "related links from each section of a notebook.\n",
    "</div>\n",
    "```\n",
    "\n",
    "<div class=\"alert alert-block alert-success\">\n",
    "<b>Up to you:</b> Use green boxes sparingly, and only for some specific \n",
    "purpose that the other boxes can't cover. For example, if you have a lot \n",
    "of related content to link to, maybe you decide to use green boxes for \n",
    "related links from each section of a notebook.\n",
    "</div>\n",
    "\n",
    "Red boxes (danger):<br>\n",
    "```\n",
    "<div class=\"alert alert-block alert-danger\">\n",
    "<b>Just don't:</b> In general, avoid the red boxes. These should only be\n",
    "used for actions that might cause data loss or another major issue.\n",
    "</div>\n",
    "```\n",
    "\n",
    "<div class=\"alert alert-block alert-danger\">\n",
    "<b>Just don't:</b> In general, avoid the red boxes. These should only be\n",
    "used for actions that might cause data loss or another major issue.\n",
    "</div>"
   ]
  },
  {
   "cell_type": "markdown",
   "metadata": {},
   "source": [
    "**To be continued...**"
   ]
  }
 ],
 "metadata": {
  "kernelspec": {
   "display_name": "Python 3 (ipykernel)",
   "language": "python",
   "name": "python3"
  },
  "language_info": {
   "codemirror_mode": {
    "name": "ipython",
    "version": 3
   },
   "file_extension": ".py",
   "mimetype": "text/x-python",
   "name": "python",
   "nbconvert_exporter": "python",
   "pygments_lexer": "ipython3",
   "version": "3.9.13"
  }
 },
 "nbformat": 4,
 "nbformat_minor": 4
}
